{
 "cells": [
  {
   "cell_type": "markdown",
   "id": "2cb727ce",
   "metadata": {},
   "source": [
    "# Exploratoty Data Analysis of the online retail store by Coursera\n",
    "https://www.coursera.org/learn/perform-exploratory-data-analysis-on-retail-data-with-python/supplement/XqZpp/option-b-working-off-platform\n",
    "\n",
    "##### Made by Nikita Gordonov"
   ]
  },
  {
   "cell_type": "code",
   "execution_count": 1,
   "id": "385cf4df",
   "metadata": {},
   "outputs": [],
   "source": [
    "import pandas as pd\n",
    "import numpy as np \n",
    "import matplotlib.pyplot as plt\n",
    "import seaborn as sns\n",
    "import datetime\n",
    "import altair as alt\n",
    "from scipy.interpolate import interp1d\n",
    "import plotly.express as px"
   ]
  },
  {
   "cell_type": "markdown",
   "id": "6d0f739d",
   "metadata": {},
   "source": [
    "## Loading DB and deleting duplicate rows"
   ]
  },
  {
   "cell_type": "code",
   "execution_count": 2,
   "id": "65210ca1",
   "metadata": {},
   "outputs": [
    {
     "data": {
      "text/html": [
       "<div>\n",
       "<style scoped>\n",
       "    .dataframe tbody tr th:only-of-type {\n",
       "        vertical-align: middle;\n",
       "    }\n",
       "\n",
       "    .dataframe tbody tr th {\n",
       "        vertical-align: top;\n",
       "    }\n",
       "\n",
       "    .dataframe thead th {\n",
       "        text-align: right;\n",
       "    }\n",
       "</style>\n",
       "<table border=\"1\" class=\"dataframe\">\n",
       "  <thead>\n",
       "    <tr style=\"text-align: right;\">\n",
       "      <th></th>\n",
       "      <th>InvoiceNo</th>\n",
       "      <th>StockCode</th>\n",
       "      <th>Description</th>\n",
       "      <th>Quantity</th>\n",
       "      <th>InvoiceDate</th>\n",
       "      <th>UnitPrice</th>\n",
       "      <th>CustomerID</th>\n",
       "      <th>Country</th>\n",
       "    </tr>\n",
       "  </thead>\n",
       "  <tbody>\n",
       "    <tr>\n",
       "      <th>0</th>\n",
       "      <td>536365</td>\n",
       "      <td>85123A</td>\n",
       "      <td>WHITE HANGING HEART T-LIGHT HOLDER</td>\n",
       "      <td>6</td>\n",
       "      <td>2010-12-01 08:26:00</td>\n",
       "      <td>2.55</td>\n",
       "      <td>17850.0</td>\n",
       "      <td>United Kingdom</td>\n",
       "    </tr>\n",
       "    <tr>\n",
       "      <th>1</th>\n",
       "      <td>536365</td>\n",
       "      <td>71053</td>\n",
       "      <td>WHITE METAL LANTERN</td>\n",
       "      <td>6</td>\n",
       "      <td>2010-12-01 08:26:00</td>\n",
       "      <td>3.39</td>\n",
       "      <td>17850.0</td>\n",
       "      <td>United Kingdom</td>\n",
       "    </tr>\n",
       "    <tr>\n",
       "      <th>2</th>\n",
       "      <td>536365</td>\n",
       "      <td>84406B</td>\n",
       "      <td>CREAM CUPID HEARTS COAT HANGER</td>\n",
       "      <td>8</td>\n",
       "      <td>2010-12-01 08:26:00</td>\n",
       "      <td>2.75</td>\n",
       "      <td>17850.0</td>\n",
       "      <td>United Kingdom</td>\n",
       "    </tr>\n",
       "    <tr>\n",
       "      <th>3</th>\n",
       "      <td>536365</td>\n",
       "      <td>84029G</td>\n",
       "      <td>KNITTED UNION FLAG HOT WATER BOTTLE</td>\n",
       "      <td>6</td>\n",
       "      <td>2010-12-01 08:26:00</td>\n",
       "      <td>3.39</td>\n",
       "      <td>17850.0</td>\n",
       "      <td>United Kingdom</td>\n",
       "    </tr>\n",
       "    <tr>\n",
       "      <th>4</th>\n",
       "      <td>536365</td>\n",
       "      <td>84029E</td>\n",
       "      <td>RED WOOLLY HOTTIE WHITE HEART.</td>\n",
       "      <td>6</td>\n",
       "      <td>2010-12-01 08:26:00</td>\n",
       "      <td>3.39</td>\n",
       "      <td>17850.0</td>\n",
       "      <td>United Kingdom</td>\n",
       "    </tr>\n",
       "    <tr>\n",
       "      <th>...</th>\n",
       "      <td>...</td>\n",
       "      <td>...</td>\n",
       "      <td>...</td>\n",
       "      <td>...</td>\n",
       "      <td>...</td>\n",
       "      <td>...</td>\n",
       "      <td>...</td>\n",
       "      <td>...</td>\n",
       "    </tr>\n",
       "    <tr>\n",
       "      <th>536636</th>\n",
       "      <td>581587</td>\n",
       "      <td>22613</td>\n",
       "      <td>PACK OF 20 SPACEBOY NAPKINS</td>\n",
       "      <td>12</td>\n",
       "      <td>2011-12-09 12:50:00</td>\n",
       "      <td>0.85</td>\n",
       "      <td>12680.0</td>\n",
       "      <td>France</td>\n",
       "    </tr>\n",
       "    <tr>\n",
       "      <th>536637</th>\n",
       "      <td>581587</td>\n",
       "      <td>22899</td>\n",
       "      <td>CHILDREN'S APRON DOLLY GIRL</td>\n",
       "      <td>6</td>\n",
       "      <td>2011-12-09 12:50:00</td>\n",
       "      <td>2.10</td>\n",
       "      <td>12680.0</td>\n",
       "      <td>France</td>\n",
       "    </tr>\n",
       "    <tr>\n",
       "      <th>536638</th>\n",
       "      <td>581587</td>\n",
       "      <td>23254</td>\n",
       "      <td>CHILDRENS CUTLERY DOLLY GIRL</td>\n",
       "      <td>4</td>\n",
       "      <td>2011-12-09 12:50:00</td>\n",
       "      <td>4.15</td>\n",
       "      <td>12680.0</td>\n",
       "      <td>France</td>\n",
       "    </tr>\n",
       "    <tr>\n",
       "      <th>536639</th>\n",
       "      <td>581587</td>\n",
       "      <td>23255</td>\n",
       "      <td>CHILDRENS CUTLERY CIRCUS PARADE</td>\n",
       "      <td>4</td>\n",
       "      <td>2011-12-09 12:50:00</td>\n",
       "      <td>4.15</td>\n",
       "      <td>12680.0</td>\n",
       "      <td>France</td>\n",
       "    </tr>\n",
       "    <tr>\n",
       "      <th>536640</th>\n",
       "      <td>581587</td>\n",
       "      <td>22138</td>\n",
       "      <td>BAKING SET 9 PIECE RETROSPOT</td>\n",
       "      <td>3</td>\n",
       "      <td>2011-12-09 12:50:00</td>\n",
       "      <td>4.95</td>\n",
       "      <td>12680.0</td>\n",
       "      <td>France</td>\n",
       "    </tr>\n",
       "  </tbody>\n",
       "</table>\n",
       "<p>536641 rows × 8 columns</p>\n",
       "</div>"
      ],
      "text/plain": [
       "       InvoiceNo StockCode                          Description  Quantity  \\\n",
       "0         536365    85123A   WHITE HANGING HEART T-LIGHT HOLDER         6   \n",
       "1         536365     71053                  WHITE METAL LANTERN         6   \n",
       "2         536365    84406B       CREAM CUPID HEARTS COAT HANGER         8   \n",
       "3         536365    84029G  KNITTED UNION FLAG HOT WATER BOTTLE         6   \n",
       "4         536365    84029E       RED WOOLLY HOTTIE WHITE HEART.         6   \n",
       "...          ...       ...                                  ...       ...   \n",
       "536636    581587     22613          PACK OF 20 SPACEBOY NAPKINS        12   \n",
       "536637    581587     22899         CHILDREN'S APRON DOLLY GIRL          6   \n",
       "536638    581587     23254        CHILDRENS CUTLERY DOLLY GIRL          4   \n",
       "536639    581587     23255      CHILDRENS CUTLERY CIRCUS PARADE         4   \n",
       "536640    581587     22138        BAKING SET 9 PIECE RETROSPOT          3   \n",
       "\n",
       "               InvoiceDate  UnitPrice  CustomerID         Country  \n",
       "0      2010-12-01 08:26:00       2.55     17850.0  United Kingdom  \n",
       "1      2010-12-01 08:26:00       3.39     17850.0  United Kingdom  \n",
       "2      2010-12-01 08:26:00       2.75     17850.0  United Kingdom  \n",
       "3      2010-12-01 08:26:00       3.39     17850.0  United Kingdom  \n",
       "4      2010-12-01 08:26:00       3.39     17850.0  United Kingdom  \n",
       "...                    ...        ...         ...             ...  \n",
       "536636 2011-12-09 12:50:00       0.85     12680.0          France  \n",
       "536637 2011-12-09 12:50:00       2.10     12680.0          France  \n",
       "536638 2011-12-09 12:50:00       4.15     12680.0          France  \n",
       "536639 2011-12-09 12:50:00       4.15     12680.0          France  \n",
       "536640 2011-12-09 12:50:00       4.95     12680.0          France  \n",
       "\n",
       "[536641 rows x 8 columns]"
      ]
     },
     "execution_count": 2,
     "metadata": {},
     "output_type": "execute_result"
    }
   ],
   "source": [
    "df = pd.read_excel(r\"C:\\Users\\Nikit\\Downloads\\CO2WZWHLQ3GpXlr5Rkeq4w_6bb40d853b58401ebd85f554991bc2f1_online_retail\\Online Retail.xlsx\")\n",
    "df = df.drop_duplicates(ignore_index = True)\n",
    "df"
   ]
  },
  {
   "cell_type": "markdown",
   "id": "72f63ae7",
   "metadata": {},
   "source": [
    "## Spotting some abnormal values"
   ]
  },
  {
   "cell_type": "code",
   "execution_count": 3,
   "id": "d41e4c41",
   "metadata": {},
   "outputs": [
    {
     "data": {
      "text/plain": [
       "<AxesSubplot:xlabel='Quantity'>"
      ]
     },
     "execution_count": 3,
     "metadata": {},
     "output_type": "execute_result"
    },
    {
     "data": {
      "image/png": "[encoded data removed]",
      "text/plain": [
       "<Figure size 640x480 with 1 Axes>"
      ]
     },
     "metadata": {},
     "output_type": "display_data"
    }
   ],
   "source": [
    "sns.boxplot(x=df['Quantity'])"
   ]
  },
  {
   "cell_type": "code",
   "execution_count": 4,
   "id": "3437d9dd",
   "metadata": {},
   "outputs": [
    {
     "data": {
      "text/plain": [
       "<AxesSubplot:xlabel='UnitPrice'>"
      ]
     },
     "execution_count": 4,
     "metadata": {},
     "output_type": "execute_result"
    },
    {
     "data": {
      "image/png": "[encoded data removed]",
      "text/plain": [
       "<Figure size 640x480 with 1 Axes>"
      ]
     },
     "metadata": {},
     "output_type": "display_data"
    }
   ],
   "source": [
    "sns.boxplot(x=df['UnitPrice'])"
   ]
  },
  {
   "cell_type": "code",
   "execution_count": 5,
   "id": "1f6f8bf5",
   "metadata": {},
   "outputs": [
    {
     "name": "stdout",
     "output_type": "stream",
     "text": [
      "<class 'pandas.core.frame.DataFrame'>\n",
      "RangeIndex: 524878 entries, 0 to 524877\n",
      "Data columns (total 9 columns):\n",
      " #   Column       Non-Null Count   Dtype         \n",
      "---  ------       --------------   -----         \n",
      " 0   InvoiceNo    524878 non-null  object        \n",
      " 1   StockCode    524878 non-null  object        \n",
      " 2   Description  524878 non-null  object        \n",
      " 3   Quantity     524878 non-null  int64         \n",
      " 4   InvoiceDate  524878 non-null  datetime64[ns]\n",
      " 5   UnitPrice    524878 non-null  float64       \n",
      " 6   CustomerID   392692 non-null  float64       \n",
      " 7   Country      524878 non-null  object        \n",
      " 8   Rev          524878 non-null  float64       \n",
      "dtypes: datetime64[ns](1), float64(3), int64(1), object(4)\n",
      "memory usage: 36.0+ MB\n"
     ]
    }
   ],
   "source": [
    "df = df[(df['Quantity'] > 0) & (df['UnitPrice' ] > 0)].reset_index(drop=True)\n",
    "df['Rev'] = df.loc[:, 'UnitPrice']*df.loc[:, 'Quantity']\n",
    "df.info()"
   ]
  },
  {
   "cell_type": "markdown",
   "id": "7e56d8df",
   "metadata": {},
   "source": [
    "## Descriptive statistics"
   ]
  },
  {
   "cell_type": "code",
   "execution_count": 6,
   "id": "19821690",
   "metadata": {},
   "outputs": [
    {
     "data": {
      "text/html": [
       "<div>\n",
       "<style scoped>\n",
       "    .dataframe tbody tr th:only-of-type {\n",
       "        vertical-align: middle;\n",
       "    }\n",
       "\n",
       "    .dataframe tbody tr th {\n",
       "        vertical-align: top;\n",
       "    }\n",
       "\n",
       "    .dataframe thead th {\n",
       "        text-align: right;\n",
       "    }\n",
       "</style>\n",
       "<table border=\"1\" class=\"dataframe\">\n",
       "  <thead>\n",
       "    <tr style=\"text-align: right;\">\n",
       "      <th></th>\n",
       "      <th>Quantity</th>\n",
       "      <th>UnitPrice</th>\n",
       "      <th>CustomerID</th>\n",
       "      <th>Rev</th>\n",
       "    </tr>\n",
       "  </thead>\n",
       "  <tbody>\n",
       "    <tr>\n",
       "      <th>count</th>\n",
       "      <td>524878.000000</td>\n",
       "      <td>524878.000000</td>\n",
       "      <td>392692.000000</td>\n",
       "      <td>524878.000000</td>\n",
       "    </tr>\n",
       "    <tr>\n",
       "      <th>mean</th>\n",
       "      <td>10.616600</td>\n",
       "      <td>3.922573</td>\n",
       "      <td>15287.843865</td>\n",
       "      <td>20.275399</td>\n",
       "    </tr>\n",
       "    <tr>\n",
       "      <th>std</th>\n",
       "      <td>156.280031</td>\n",
       "      <td>36.093028</td>\n",
       "      <td>1713.539549</td>\n",
       "      <td>271.693566</td>\n",
       "    </tr>\n",
       "    <tr>\n",
       "      <th>min</th>\n",
       "      <td>1.000000</td>\n",
       "      <td>0.001000</td>\n",
       "      <td>12346.000000</td>\n",
       "      <td>0.001000</td>\n",
       "    </tr>\n",
       "    <tr>\n",
       "      <th>25%</th>\n",
       "      <td>1.000000</td>\n",
       "      <td>1.250000</td>\n",
       "      <td>13955.000000</td>\n",
       "      <td>3.900000</td>\n",
       "    </tr>\n",
       "    <tr>\n",
       "      <th>50%</th>\n",
       "      <td>4.000000</td>\n",
       "      <td>2.080000</td>\n",
       "      <td>15150.000000</td>\n",
       "      <td>9.920000</td>\n",
       "    </tr>\n",
       "    <tr>\n",
       "      <th>75%</th>\n",
       "      <td>11.000000</td>\n",
       "      <td>4.130000</td>\n",
       "      <td>16791.000000</td>\n",
       "      <td>17.700000</td>\n",
       "    </tr>\n",
       "    <tr>\n",
       "      <th>max</th>\n",
       "      <td>80995.000000</td>\n",
       "      <td>13541.330000</td>\n",
       "      <td>18287.000000</td>\n",
       "      <td>168469.600000</td>\n",
       "    </tr>\n",
       "  </tbody>\n",
       "</table>\n",
       "</div>"
      ],
      "text/plain": [
       "            Quantity      UnitPrice     CustomerID            Rev\n",
       "count  524878.000000  524878.000000  392692.000000  524878.000000\n",
       "mean       10.616600       3.922573   15287.843865      20.275399\n",
       "std       156.280031      36.093028    1713.539549     271.693566\n",
       "min         1.000000       0.001000   12346.000000       0.001000\n",
       "25%         1.000000       1.250000   13955.000000       3.900000\n",
       "50%         4.000000       2.080000   15150.000000       9.920000\n",
       "75%        11.000000       4.130000   16791.000000      17.700000\n",
       "max     80995.000000   13541.330000   18287.000000  168469.600000"
      ]
     },
     "execution_count": 6,
     "metadata": {},
     "output_type": "execute_result"
    }
   ],
   "source": [
    "df.describe()"
   ]
  },
  {
   "cell_type": "code",
   "execution_count": 7,
   "id": "6f3ff8b5",
   "metadata": {},
   "outputs": [
    {
     "data": {
      "text/plain": [
       "InvoiceNo           0\n",
       "StockCode           0\n",
       "Description         0\n",
       "Quantity            0\n",
       "InvoiceDate         0\n",
       "UnitPrice           0\n",
       "CustomerID     132186\n",
       "Country             0\n",
       "Rev                 0\n",
       "dtype: int64"
      ]
     },
     "execution_count": 7,
     "metadata": {},
     "output_type": "execute_result"
    }
   ],
   "source": [
    "df.isnull().sum()"
   ]
  },
  {
   "cell_type": "markdown",
   "id": "64afb72a",
   "metadata": {},
   "source": [
    "# Analyzing how date and time affects revenue"
   ]
  },
  {
   "cell_type": "markdown",
   "id": "9c00f202",
   "metadata": {},
   "source": [
    "### Deleting 0.5% of revenue outliers (optional)"
   ]
  },
  {
   "cell_type": "code",
   "execution_count": 8,
   "id": "706ce722",
   "metadata": {},
   "outputs": [],
   "source": [
    "df = df[(df['Rev'] >= df['Rev'].quantile(0.0025)) & (df['Rev'] <= df['Rev'].quantile(0.9975))].reset_index(drop=True)"
   ]
  },
  {
   "cell_type": "markdown",
   "id": "ca8a61f4",
   "metadata": {},
   "source": [
    "### Revenue analysis"
   ]
  },
  {
   "cell_type": "code",
   "execution_count": 158,
   "id": "1aac6937",
   "metadata": {},
   "outputs": [],
   "source": [
    "df['InvoiceDateDay'] = pd.to_datetime(df['InvoiceDate'].dt.date)\n",
    "df[\"InvoiceDateMonth\"] = df['InvoiceDate'].dt.to_period(\"M\").dt.to_timestamp()\n",
    "df[\"InvoiceDateWeekDay\"] = df['InvoiceDate'].dt.day_name()\n",
    "df[\"InvoiceDateHour\"] = df['InvoiceDate'].dt.hour"
   ]
  },
  {
   "cell_type": "code",
   "execution_count": 159,
   "id": "31aee328",
   "metadata": {},
   "outputs": [],
   "source": [
    "rev_per_day = df.groupby(by='InvoiceDateDay', as_index=False).agg({'Rev': \"sum\"})\n",
    "rev_per_month = df.groupby(by='InvoiceDateMonth', as_index=False).agg({'Rev': \"sum\", 'InvoiceNo':'count', 'CustomerID':'count'})\n",
    "rev_per_weekday = df.groupby(by='InvoiceDateWeekDay', as_index=False).agg({'Rev': \"sum\"}).sort_values(by='Rev', ascending=False)\n",
    "rev_per_time = df.groupby(by='InvoiceDateHour', as_index=False).agg({'Rev': \"sum\"})\n",
    "\n",
    "rev_per_month.rename(columns={'InvoiceNo':'Number of invoices', 'CustomerID':'MAU'}, inplace=True)"
   ]
  },
  {
   "cell_type": "code",
   "execution_count": 154,
   "id": "37adc014",
   "metadata": {},
   "outputs": [
    {
     "data": {
      "image/png": "[encoded data removed]",
      "text/plain": [
       "<Figure size 640x480 with 1 Axes>"
      ]
     },
     "metadata": {},
     "output_type": "display_data"
    }
   ],
   "source": [
    "ax = sns.lineplot(data = rev_per_day, x = 'InvoiceDateDay', y = 'Rev')\n",
    "ax.set_title(\"Revenue per day\");"
   ]
  },
  {
   "cell_type": "code",
   "execution_count": 128,
   "id": "3cf04dc7",
   "metadata": {},
   "outputs": [
    {
     "data": {
      "image/png": "[encoded data removed]",
      "text/plain": [
       "<Figure size 640x480 with 1 Axes>"
      ]
     },
     "metadata": {},
     "output_type": "display_data"
    }
   ],
   "source": [
    "ax = sns.lineplot(data = rev_per_month, x = 'InvoiceDateMonth', y = 'Rev')\n",
    "ax.set_title(\"Revenue per month\");"
   ]
  },
  {
   "cell_type": "code",
   "execution_count": 129,
   "id": "b9b2cf77",
   "metadata": {},
   "outputs": [
    {
     "data": {
      "image/png": "[encoded data removed]",
      "text/plain": [
       "<Figure size 640x480 with 1 Axes>"
      ]
     },
     "metadata": {},
     "output_type": "display_data"
    }
   ],
   "source": [
    "ax = sns.barplot(data = rev_per_weekday, x = 'InvoiceDateWeekDay', y = 'Rev')\n",
    "ax.set_title(\"Revenue per weekday\");"
   ]
  },
  {
   "cell_type": "code",
   "execution_count": 130,
   "id": "eaa03032",
   "metadata": {},
   "outputs": [
    {
     "data": {
      "image/png": "[encoded data removed]",
      "text/plain": [
       "<Figure size 640x480 with 1 Axes>"
      ]
     },
     "metadata": {},
     "output_type": "display_data"
    }
   ],
   "source": [
    "ax = sns.lineplot(data = rev_per_time, x = 'InvoiceDateHour', y = 'Rev')\n",
    "ax.set_title(\"Revenue per hour\");"
   ]
  },
  {
   "cell_type": "markdown",
   "id": "5f3a13af",
   "metadata": {},
   "source": [
    "## The most lucrative goods"
   ]
  },
  {
   "cell_type": "code",
   "execution_count": 131,
   "id": "466b8ce4",
   "metadata": {},
   "outputs": [
    {
     "data": {
      "text/html": [
       "<div>\n",
       "<style scoped>\n",
       "    .dataframe tbody tr th:only-of-type {\n",
       "        vertical-align: middle;\n",
       "    }\n",
       "\n",
       "    .dataframe tbody tr th {\n",
       "        vertical-align: top;\n",
       "    }\n",
       "\n",
       "    .dataframe thead th {\n",
       "        text-align: right;\n",
       "    }\n",
       "</style>\n",
       "<table border=\"1\" class=\"dataframe\">\n",
       "  <thead>\n",
       "    <tr style=\"text-align: right;\">\n",
       "      <th></th>\n",
       "      <th>Description</th>\n",
       "      <th>Rev</th>\n",
       "    </tr>\n",
       "  </thead>\n",
       "  <tbody>\n",
       "    <tr>\n",
       "      <th>0</th>\n",
       "      <td>REGENCY CAKESTAND 3 TIER</td>\n",
       "      <td>129968.87</td>\n",
       "    </tr>\n",
       "    <tr>\n",
       "      <th>1</th>\n",
       "      <td>DOTCOM POSTAGE</td>\n",
       "      <td>101678.98</td>\n",
       "    </tr>\n",
       "    <tr>\n",
       "      <th>2</th>\n",
       "      <td>JUMBO BAG RED RETROSPOT</td>\n",
       "      <td>77867.06</td>\n",
       "    </tr>\n",
       "    <tr>\n",
       "      <th>3</th>\n",
       "      <td>PARTY BUNTING</td>\n",
       "      <td>77449.31</td>\n",
       "    </tr>\n",
       "    <tr>\n",
       "      <th>4</th>\n",
       "      <td>WHITE HANGING HEART T-LIGHT HOLDER</td>\n",
       "      <td>76313.00</td>\n",
       "    </tr>\n",
       "    <tr>\n",
       "      <th>5</th>\n",
       "      <td>POSTAGE</td>\n",
       "      <td>68185.19</td>\n",
       "    </tr>\n",
       "    <tr>\n",
       "      <th>6</th>\n",
       "      <td>ASSORTED COLOUR BIRD ORNAMENT</td>\n",
       "      <td>51144.02</td>\n",
       "    </tr>\n",
       "    <tr>\n",
       "      <th>7</th>\n",
       "      <td>PAPER CHAIN KIT 50'S CHRISTMAS</td>\n",
       "      <td>47061.76</td>\n",
       "    </tr>\n",
       "    <tr>\n",
       "      <th>8</th>\n",
       "      <td>RABBIT NIGHT LIGHT</td>\n",
       "      <td>40007.40</td>\n",
       "    </tr>\n",
       "    <tr>\n",
       "      <th>9</th>\n",
       "      <td>CHILLI LIGHTS</td>\n",
       "      <td>39997.60</td>\n",
       "    </tr>\n",
       "  </tbody>\n",
       "</table>\n",
       "</div>"
      ],
      "text/plain": [
       "                          Description        Rev\n",
       "0            REGENCY CAKESTAND 3 TIER  129968.87\n",
       "1                      DOTCOM POSTAGE  101678.98\n",
       "2             JUMBO BAG RED RETROSPOT   77867.06\n",
       "3                       PARTY BUNTING   77449.31\n",
       "4  WHITE HANGING HEART T-LIGHT HOLDER   76313.00\n",
       "5                             POSTAGE   68185.19\n",
       "6       ASSORTED COLOUR BIRD ORNAMENT   51144.02\n",
       "7     PAPER CHAIN KIT 50'S CHRISTMAS    47061.76\n",
       "8                  RABBIT NIGHT LIGHT   40007.40\n",
       "9                       CHILLI LIGHTS   39997.60"
      ]
     },
     "execution_count": 131,
     "metadata": {},
     "output_type": "execute_result"
    }
   ],
   "source": [
    "rev_per_category = df.groupby(by = 'Description', as_index=False).agg({\"Rev\":\"sum\"})\n",
    "rev_per_category.sort_values(by = \"Rev\", ascending=False).head(10).reset_index(drop=True)"
   ]
  },
  {
   "cell_type": "markdown",
   "id": "da1e573c",
   "metadata": {},
   "source": [
    "## The most popular goods"
   ]
  },
  {
   "cell_type": "code",
   "execution_count": 132,
   "id": "e0884052",
   "metadata": {},
   "outputs": [
    {
     "data": {
      "text/html": [
       "<div>\n",
       "<style scoped>\n",
       "    .dataframe tbody tr th:only-of-type {\n",
       "        vertical-align: middle;\n",
       "    }\n",
       "\n",
       "    .dataframe tbody tr th {\n",
       "        vertical-align: top;\n",
       "    }\n",
       "\n",
       "    .dataframe thead th {\n",
       "        text-align: right;\n",
       "    }\n",
       "</style>\n",
       "<table border=\"1\" class=\"dataframe\">\n",
       "  <thead>\n",
       "    <tr style=\"text-align: right;\">\n",
       "      <th></th>\n",
       "      <th>Description</th>\n",
       "      <th>Quantity</th>\n",
       "    </tr>\n",
       "  </thead>\n",
       "  <tbody>\n",
       "    <tr>\n",
       "      <th>0</th>\n",
       "      <td>WORLD WAR 2 GLIDERS ASSTD DESIGNS</td>\n",
       "      <td>44678</td>\n",
       "    </tr>\n",
       "    <tr>\n",
       "      <th>1</th>\n",
       "      <td>JUMBO BAG RED RETROSPOT</td>\n",
       "      <td>39390</td>\n",
       "    </tr>\n",
       "    <tr>\n",
       "      <th>2</th>\n",
       "      <td>PACK OF 72 RETROSPOT CAKE CASES</td>\n",
       "      <td>32556</td>\n",
       "    </tr>\n",
       "    <tr>\n",
       "      <th>3</th>\n",
       "      <td>ASSORTED COLOUR BIRD ORNAMENT</td>\n",
       "      <td>30994</td>\n",
       "    </tr>\n",
       "    <tr>\n",
       "      <th>4</th>\n",
       "      <td>WHITE HANGING HEART T-LIGHT HOLDER</td>\n",
       "      <td>27040</td>\n",
       "    </tr>\n",
       "    <tr>\n",
       "      <th>5</th>\n",
       "      <td>PACK OF 12 LONDON TISSUES</td>\n",
       "      <td>26102</td>\n",
       "    </tr>\n",
       "    <tr>\n",
       "      <th>6</th>\n",
       "      <td>POPCORN HOLDER</td>\n",
       "      <td>23507</td>\n",
       "    </tr>\n",
       "    <tr>\n",
       "      <th>7</th>\n",
       "      <td>MINI PAINT SET VINTAGE</td>\n",
       "      <td>23223</td>\n",
       "    </tr>\n",
       "    <tr>\n",
       "      <th>8</th>\n",
       "      <td>BROCADE RING PURSE</td>\n",
       "      <td>23015</td>\n",
       "    </tr>\n",
       "    <tr>\n",
       "      <th>9</th>\n",
       "      <td>VICTORIAN GLASS HANGING T-LIGHT</td>\n",
       "      <td>22355</td>\n",
       "    </tr>\n",
       "  </tbody>\n",
       "</table>\n",
       "</div>"
      ],
      "text/plain": [
       "                          Description  Quantity\n",
       "0   WORLD WAR 2 GLIDERS ASSTD DESIGNS     44678\n",
       "1             JUMBO BAG RED RETROSPOT     39390\n",
       "2     PACK OF 72 RETROSPOT CAKE CASES     32556\n",
       "3       ASSORTED COLOUR BIRD ORNAMENT     30994\n",
       "4  WHITE HANGING HEART T-LIGHT HOLDER     27040\n",
       "5          PACK OF 12 LONDON TISSUES      26102\n",
       "6                      POPCORN HOLDER     23507\n",
       "7             MINI PAINT SET VINTAGE      23223\n",
       "8                 BROCADE RING PURSE      23015\n",
       "9     VICTORIAN GLASS HANGING T-LIGHT     22355"
      ]
     },
     "execution_count": 132,
     "metadata": {},
     "output_type": "execute_result"
    }
   ],
   "source": [
    "category = df.groupby(by = 'Description', as_index=False).agg({\"Quantity\":\"sum\"})\n",
    "category.sort_values(by = \"Quantity\", ascending=False).head(10).reset_index(drop=True)"
   ]
  },
  {
   "cell_type": "markdown",
   "id": "da8fadc7",
   "metadata": {},
   "source": [
    "## Defining target countries"
   ]
  },
  {
   "cell_type": "code",
   "execution_count": 133,
   "id": "212e66c1",
   "metadata": {},
   "outputs": [
    {
     "data": {
      "text/html": [
       "<div>\n",
       "<style scoped>\n",
       "    .dataframe tbody tr th:only-of-type {\n",
       "        vertical-align: middle;\n",
       "    }\n",
       "\n",
       "    .dataframe tbody tr th {\n",
       "        vertical-align: top;\n",
       "    }\n",
       "\n",
       "    .dataframe thead th {\n",
       "        text-align: right;\n",
       "    }\n",
       "</style>\n",
       "<table border=\"1\" class=\"dataframe\">\n",
       "  <thead>\n",
       "    <tr style=\"text-align: right;\">\n",
       "      <th></th>\n",
       "      <th>Country</th>\n",
       "      <th>Rev</th>\n",
       "      <th>% of total rev</th>\n",
       "    </tr>\n",
       "  </thead>\n",
       "  <tbody>\n",
       "    <tr>\n",
       "      <th>0</th>\n",
       "      <td>United Kingdom</td>\n",
       "      <td>7550704.72</td>\n",
       "      <td>83.722869</td>\n",
       "    </tr>\n",
       "    <tr>\n",
       "      <th>1</th>\n",
       "      <td>Netherlands</td>\n",
       "      <td>248500.56</td>\n",
       "      <td>2.755396</td>\n",
       "    </tr>\n",
       "    <tr>\n",
       "      <th>2</th>\n",
       "      <td>EIRE</td>\n",
       "      <td>244087.66</td>\n",
       "      <td>2.706465</td>\n",
       "    </tr>\n",
       "    <tr>\n",
       "      <th>3</th>\n",
       "      <td>Germany</td>\n",
       "      <td>223141.36</td>\n",
       "      <td>2.474211</td>\n",
       "    </tr>\n",
       "    <tr>\n",
       "      <th>4</th>\n",
       "      <td>France</td>\n",
       "      <td>194682.27</td>\n",
       "      <td>2.158654</td>\n",
       "    </tr>\n",
       "    <tr>\n",
       "      <th>5</th>\n",
       "      <td>Australia</td>\n",
       "      <td>109082.41</td>\n",
       "      <td>1.209515</td>\n",
       "    </tr>\n",
       "    <tr>\n",
       "      <th>6</th>\n",
       "      <td>Switzerland</td>\n",
       "      <td>57067.60</td>\n",
       "      <td>0.632771</td>\n",
       "    </tr>\n",
       "    <tr>\n",
       "      <th>7</th>\n",
       "      <td>Spain</td>\n",
       "      <td>53010.52</td>\n",
       "      <td>0.587785</td>\n",
       "    </tr>\n",
       "    <tr>\n",
       "      <th>8</th>\n",
       "      <td>Belgium</td>\n",
       "      <td>41196.34</td>\n",
       "      <td>0.456789</td>\n",
       "    </tr>\n",
       "    <tr>\n",
       "      <th>9</th>\n",
       "      <td>Norway</td>\n",
       "      <td>35465.44</td>\n",
       "      <td>0.393244</td>\n",
       "    </tr>\n",
       "  </tbody>\n",
       "</table>\n",
       "</div>"
      ],
      "text/plain": [
       "          Country         Rev  % of total rev\n",
       "0  United Kingdom  7550704.72       83.722869\n",
       "1     Netherlands   248500.56        2.755396\n",
       "2            EIRE   244087.66        2.706465\n",
       "3         Germany   223141.36        2.474211\n",
       "4          France   194682.27        2.158654\n",
       "5       Australia   109082.41        1.209515\n",
       "6     Switzerland    57067.60        0.632771\n",
       "7           Spain    53010.52        0.587785\n",
       "8         Belgium    41196.34        0.456789\n",
       "9          Norway    35465.44        0.393244"
      ]
     },
     "execution_count": 133,
     "metadata": {},
     "output_type": "execute_result"
    }
   ],
   "source": [
    "rev_per_country = df.groupby(by = 'Country', as_index=False).agg({\"Rev\":\"sum\"})\n",
    "rev_per_country = rev_per_country.sort_values(by = \"Rev\", ascending=False).reset_index(drop=True)\n",
    "rev_per_country[\"% of total rev\"] = 100*rev_per_country['Rev']/df[\"Rev\"].sum()\n",
    "rev_per_country.head(10)"
   ]
  },
  {
   "cell_type": "code",
   "execution_count": 134,
   "id": "d241e167",
   "metadata": {},
   "outputs": [],
   "source": [
    "countries = pd.read_excel(r\"C:\\Users\\Nikit\\Downloads\\time_series_covid19_confirmed_global.xls\")\n",
    "rev_per_country = rev_per_country.merge(countries, on = 'Country')"
   ]
  },
  {
   "cell_type": "code",
   "execution_count": 135,
   "id": "65489ab0",
   "metadata": {},
   "outputs": [
    {
     "data": {
      "application/vnd.plotly.v1+json": {
       "config": {
        "plotlyServerURL": "https://plot.ly"
       },
       "data": [
        {
         "coloraxis": "coloraxis",
         "customdata": [
          [
           83.72286922434463
          ],
          [
           2.7553957754364955
          ],
          [
           2.4742107650347114
          ],
          [
           2.1586539052885323
          ],
          [
           1.2095152288124893
          ],
          [
           0.6327705014197946
          ],
          [
           0.587785246285529
          ],
          [
           0.4567885931502348
          ],
          [
           0.39324387659326204
          ],
          [
           0.36584288564895023
          ],
          [
           0.33356690646868264
          ],
          [
           0.3075409491665963
          ],
          [
           0.2438811382687937
          ],
          [
           0.2266464814551754
          ],
          [
           0.21017845496188187
          ],
          [
           0.1938556824054737
          ],
          [
           0.14972077264676056
          ],
          [
           0.11308384893389647
          ],
          [
           0.105583977913294
          ],
          [
           0.09013960359200479
          ],
          [
           0.08132723573864499
          ],
          [
           0.052785058902406284
          ],
          [
           0.04778965404396391
          ],
          [
           0.030221578460716377
          ],
          [
           0.02862056960980966
          ],
          [
           0.021092645729640758
          ],
          [
           0.018781888443617074
          ],
          [
           0.0184179774353287
          ],
          [
           0.01268033604748889
          ],
          [
           0.008361969768147319
          ],
          [
           0.0016179736236879845
          ]
         ],
         "hovertemplate": "<b>%{hovertext}</b><br><br>Lat=%{lat}<br>Long=%{lon}<br>% of total rev=%{customdata[0]}<extra></extra>",
         "hovertext": [
          "United Kingdom",
          "Netherlands",
          "Germany",
          "France",
          "Australia",
          "Switzerland",
          "Spain",
          "Belgium",
          "Norway",
          "Sweden",
          "Portugal",
          "Japan",
          "Finland",
          "Channel Islands",
          "Denmark",
          "Italy",
          "Cyprus",
          "Austria",
          "Singapore",
          "Israel",
          "Poland",
          "Greece",
          "Iceland",
          "Malta",
          "Canada",
          "United Arab Emirates",
          "Lebanon",
          "Lithuania",
          "Brazil",
          "Bahrain",
          "Saudi Arabia"
         ],
         "lat": [
          55.3781,
          52.1326,
          51.165691,
          46.2276,
          -35.4735,
          46.8182,
          40.463667,
          50.8333,
          60.472,
          60.128161,
          39.3999,
          36.204824,
          61.92411,
          49.3723,
          61.8926,
          41.87194,
          35.1264,
          47.5162,
          1.2833,
          31.046051,
          51.9194,
          39.0742,
          64.9631,
          35.9375,
          51.2538,
          23.424076,
          33.8547,
          55.1694,
          -14.235,
          26.0275,
          23.885942
         ],
         "lon": [
          -3.436,
          5.2913,
          10.451526,
          2.2137,
          149.0124,
          8.2275,
          -3.74922,
          4.469936,
          8.4689,
          18.643501,
          -8.2245,
          138.252924,
          25.748151,
          -2.3644,
          -6.9118,
          12.56738,
          33.4299,
          14.5501,
          103.8333,
          34.851612,
          19.1451,
          21.8243,
          -19.0208,
          14.3754,
          -85.3232,
          53.847818,
          35.8623,
          23.8813,
          -51.9253,
          50.55,
          45.079162
         ],
         "name": "",
         "radius": [
          18,
          5.42784182401454,
          5.384181051646263,
          5.335183218500961,
          5.1878064872863945,
          5.098252921748475,
          5.091267873073442,
          5.070927474965542,
          5.061060621107164,
          5.056805954663262,
          5.051794328410713,
          5.047753169190279,
          5.0378684441523225,
          5.035192346920434,
          5.032635287584124,
          5.030100782433987,
          5.023247770441221,
          5.0175590020953695,
          5.016394465760541,
          5.013996353177482,
          5.012628019971094,
          5.0081961568217706,
          5.007420499420616,
          5.004692630862143,
          5.004444035523084,
          5.003275143303445,
          5.002916342356982,
          5.002859836372995,
          5.001968928802185,
          5.001298398012311,
          5.000251229530268
         ],
         "subplot": "mapbox",
         "type": "densitymapbox"
        }
       ],
       "layout": {
        "coloraxis": {
         "colorscale": [
          [
           0,
           "#0d0887"
          ],
          [
           0.1111111111111111,
           "#46039f"
          ],
          [
           0.2222222222222222,
           "#7201a8"
          ],
          [
           0.3333333333333333,
           "#9c179e"
          ],
          [
           0.4444444444444444,
           "#bd3786"
          ],
          [
           0.5555555555555556,
           "#d8576b"
          ],
          [
           0.6666666666666666,
           "#ed7953"
          ],
          [
           0.7777777777777778,
           "#fb9f3a"
          ],
          [
           0.8888888888888888,
           "#fdca26"
          ],
          [
           1,
           "#f0f921"
          ]
         ]
        },
        "height": 550,
        "legend": {
         "tracegroupgap": 0
        },
        "mapbox": {
         "center": {
          "lat": 39.518002,
          "lon": 21.08459
         },
         "domain": {
          "x": [
           0,
           1
          ],
          "y": [
           0,
           1
          ]
         },
         "style": "open-street-map",
         "zoom": 0
        },
        "template": {
         "data": {
          "bar": [
           {
            "error_x": {
             "color": "#2a3f5f"
            },
            "error_y": {
             "color": "#2a3f5f"
            },
            "marker": {
             "line": {
              "color": "#E5ECF6",
              "width": 0.5
             },
             "pattern": {
              "fillmode": "overlay",
              "size": 10,
              "solidity": 0.2
             }
            },
            "type": "bar"
           }
          ],
          "barpolar": [
           {
            "marker": {
             "line": {
              "color": "#E5ECF6",
              "width": 0.5
             },
             "pattern": {
              "fillmode": "overlay",
              "size": 10,
              "solidity": 0.2
             }
            },
            "type": "barpolar"
           }
          ],
          "carpet": [
           {
            "aaxis": {
             "endlinecolor": "#2a3f5f",
             "gridcolor": "white",
             "linecolor": "white",
             "minorgridcolor": "white",
             "startlinecolor": "#2a3f5f"
            },
            "baxis": {
             "endlinecolor": "#2a3f5f",
             "gridcolor": "white",
             "linecolor": "white",
             "minorgridcolor": "white",
             "startlinecolor": "#2a3f5f"
            },
            "type": "carpet"
           }
          ],
          "choropleth": [
           {
            "colorbar": {
             "outlinewidth": 0,
             "ticks": ""
            },
            "type": "choropleth"
           }
          ],
          "contour": [
           {
            "colorbar": {
             "outlinewidth": 0,
             "ticks": ""
            },
            "colorscale": [
             [
              0,
              "#0d0887"
             ],
             [
              0.1111111111111111,
              "#46039f"
             ],
             [
              0.2222222222222222,
              "#7201a8"
             ],
             [
              0.3333333333333333,
              "#9c179e"
             ],
             [
              0.4444444444444444,
              "#bd3786"
             ],
             [
              0.5555555555555556,
              "#d8576b"
             ],
             [
              0.6666666666666666,
              "#ed7953"
             ],
             [
              0.7777777777777778,
              "#fb9f3a"
             ],
             [
              0.8888888888888888,
              "#fdca26"
             ],
             [
              1,
              "#f0f921"
             ]
            ],
            "type": "contour"
           }
          ],
          "contourcarpet": [
           {
            "colorbar": {
             "outlinewidth": 0,
             "ticks": ""
            },
            "type": "contourcarpet"
           }
          ],
          "heatmap": [
           {
            "colorbar": {
             "outlinewidth": 0,
             "ticks": ""
            },
            "colorscale": [
             [
              0,
              "#0d0887"
             ],
             [
              0.1111111111111111,
              "#46039f"
             ],
             [
              0.2222222222222222,
              "#7201a8"
             ],
             [
              0.3333333333333333,
              "#9c179e"
             ],
             [
              0.4444444444444444,
              "#bd3786"
             ],
             [
              0.5555555555555556,
              "#d8576b"
             ],
             [
              0.6666666666666666,
              "#ed7953"
             ],
             [
              0.7777777777777778,
              "#fb9f3a"
             ],
             [
              0.8888888888888888,
              "#fdca26"
             ],
             [
              1,
              "#f0f921"
             ]
            ],
            "type": "heatmap"
           }
          ],
          "heatmapgl": [
           {
            "colorbar": {
             "outlinewidth": 0,
             "ticks": ""
            },
            "colorscale": [
             [
              0,
              "#0d0887"
             ],
             [
              0.1111111111111111,
              "#46039f"
             ],
             [
              0.2222222222222222,
              "#7201a8"
             ],
             [
              0.3333333333333333,
              "#9c179e"
             ],
             [
              0.4444444444444444,
              "#bd3786"
             ],
             [
              0.5555555555555556,
              "#d8576b"
             ],
             [
              0.6666666666666666,
              "#ed7953"
             ],
             [
              0.7777777777777778,
              "#fb9f3a"
             ],
             [
              0.8888888888888888,
              "#fdca26"
             ],
             [
              1,
              "#f0f921"
             ]
            ],
            "type": "heatmapgl"
           }
          ],
          "histogram": [
           {
            "marker": {
             "pattern": {
              "fillmode": "overlay",
              "size": 10,
              "solidity": 0.2
             }
            },
            "type": "histogram"
           }
          ],
          "histogram2d": [
           {
            "colorbar": {
             "outlinewidth": 0,
             "ticks": ""
            },
            "colorscale": [
             [
              0,
              "#0d0887"
             ],
             [
              0.1111111111111111,
              "#46039f"
             ],
             [
              0.2222222222222222,
              "#7201a8"
             ],
             [
              0.3333333333333333,
              "#9c179e"
             ],
             [
              0.4444444444444444,
              "#bd3786"
             ],
             [
              0.5555555555555556,
              "#d8576b"
             ],
             [
              0.6666666666666666,
              "#ed7953"
             ],
             [
              0.7777777777777778,
              "#fb9f3a"
             ],
             [
              0.8888888888888888,
              "#fdca26"
             ],
             [
              1,
              "#f0f921"
             ]
            ],
            "type": "histogram2d"
           }
          ],
          "histogram2dcontour": [
           {
            "colorbar": {
             "outlinewidth": 0,
             "ticks": ""
            },
            "colorscale": [
             [
              0,
              "#0d0887"
             ],
             [
              0.1111111111111111,
              "#46039f"
             ],
             [
              0.2222222222222222,
              "#7201a8"
             ],
             [
              0.3333333333333333,
              "#9c179e"
             ],
             [
              0.4444444444444444,
              "#bd3786"
             ],
             [
              0.5555555555555556,
              "#d8576b"
             ],
             [
              0.6666666666666666,
              "#ed7953"
             ],
             [
              0.7777777777777778,
              "#fb9f3a"
             ],
             [
              0.8888888888888888,
              "#fdca26"
             ],
             [
              1,
              "#f0f921"
             ]
            ],
            "type": "histogram2dcontour"
           }
          ],
          "mesh3d": [
           {
            "colorbar": {
             "outlinewidth": 0,
             "ticks": ""
            },
            "type": "mesh3d"
           }
          ],
          "parcoords": [
           {
            "line": {
             "colorbar": {
              "outlinewidth": 0,
              "ticks": ""
             }
            },
            "type": "parcoords"
           }
          ],
          "pie": [
           {
            "automargin": true,
            "type": "pie"
           }
          ],
          "scatter": [
           {
            "fillpattern": {
             "fillmode": "overlay",
             "size": 10,
             "solidity": 0.2
            },
            "type": "scatter"
           }
          ],
          "scatter3d": [
           {
            "line": {
             "colorbar": {
              "outlinewidth": 0,
              "ticks": ""
             }
            },
            "marker": {
             "colorbar": {
              "outlinewidth": 0,
              "ticks": ""
             }
            },
            "type": "scatter3d"
           }
          ],
          "scattercarpet": [
           {
            "marker": {
             "colorbar": {
              "outlinewidth": 0,
              "ticks": ""
             }
            },
            "type": "scattercarpet"
           }
          ],
          "scattergeo": [
           {
            "marker": {
             "colorbar": {
              "outlinewidth": 0,
              "ticks": ""
             }
            },
            "type": "scattergeo"
           }
          ],
          "scattergl": [
           {
            "marker": {
             "colorbar": {
              "outlinewidth": 0,
              "ticks": ""
             }
            },
            "type": "scattergl"
           }
          ],
          "scattermapbox": [
           {
            "marker": {
             "colorbar": {
              "outlinewidth": 0,
              "ticks": ""
             }
            },
            "type": "scattermapbox"
           }
          ],
          "scatterpolar": [
           {
            "marker": {
             "colorbar": {
              "outlinewidth": 0,
              "ticks": ""
             }
            },
            "type": "scatterpolar"
           }
          ],
          "scatterpolargl": [
           {
            "marker": {
             "colorbar": {
              "outlinewidth": 0,
              "ticks": ""
             }
            },
            "type": "scatterpolargl"
           }
          ],
          "scatterternary": [
           {
            "marker": {
             "colorbar": {
              "outlinewidth": 0,
              "ticks": ""
             }
            },
            "type": "scatterternary"
           }
          ],
          "surface": [
           {
            "colorbar": {
             "outlinewidth": 0,
             "ticks": ""
            },
            "colorscale": [
             [
              0,
              "#0d0887"
             ],
             [
              0.1111111111111111,
              "#46039f"
             ],
             [
              0.2222222222222222,
              "#7201a8"
             ],
             [
              0.3333333333333333,
              "#9c179e"
             ],
             [
              0.4444444444444444,
              "#bd3786"
             ],
             [
              0.5555555555555556,
              "#d8576b"
             ],
             [
              0.6666666666666666,
              "#ed7953"
             ],
             [
              0.7777777777777778,
              "#fb9f3a"
             ],
             [
              0.8888888888888888,
              "#fdca26"
             ],
             [
              1,
              "#f0f921"
             ]
            ],
            "type": "surface"
           }
          ],
          "table": [
           {
            "cells": {
             "fill": {
              "color": "#EBF0F8"
             },
             "line": {
              "color": "white"
             }
            },
            "header": {
             "fill": {
              "color": "#C8D4E3"
             },
             "line": {
              "color": "white"
             }
            },
            "type": "table"
           }
          ]
         },
         "layout": {
          "annotationdefaults": {
           "arrowcolor": "#2a3f5f",
           "arrowhead": 0,
           "arrowwidth": 1
          },
          "autotypenumbers": "strict",
          "coloraxis": {
           "colorbar": {
            "outlinewidth": 0,
            "ticks": ""
           }
          },
          "colorscale": {
           "diverging": [
            [
             0,
             "#8e0152"
            ],
            [
             0.1,
             "#c51b7d"
            ],
            [
             0.2,
             "#de77ae"
            ],
            [
             0.3,
             "#f1b6da"
            ],
            [
             0.4,
             "#fde0ef"
            ],
            [
             0.5,
             "#f7f7f7"
            ],
            [
             0.6,
             "#e6f5d0"
            ],
            [
             0.7,
             "#b8e186"
            ],
            [
             0.8,
             "#7fbc41"
            ],
            [
             0.9,
             "#4d9221"
            ],
            [
             1,
             "#276419"
            ]
           ],
           "sequential": [
            [
             0,
             "#0d0887"
            ],
            [
             0.1111111111111111,
             "#46039f"
            ],
            [
             0.2222222222222222,
             "#7201a8"
            ],
            [
             0.3333333333333333,
             "#9c179e"
            ],
            [
             0.4444444444444444,
             "#bd3786"
            ],
            [
             0.5555555555555556,
             "#d8576b"
            ],
            [
             0.6666666666666666,
             "#ed7953"
            ],
            [
             0.7777777777777778,
             "#fb9f3a"
            ],
            [
             0.8888888888888888,
             "#fdca26"
            ],
            [
             1,
             "#f0f921"
            ]
           ],
           "sequentialminus": [
            [
             0,
             "#0d0887"
            ],
            [
             0.1111111111111111,
             "#46039f"
            ],
            [
             0.2222222222222222,
             "#7201a8"
            ],
            [
             0.3333333333333333,
             "#9c179e"
            ],
            [
             0.4444444444444444,
             "#bd3786"
            ],
            [
             0.5555555555555556,
             "#d8576b"
            ],
            [
             0.6666666666666666,
             "#ed7953"
            ],
            [
             0.7777777777777778,
             "#fb9f3a"
            ],
            [
             0.8888888888888888,
             "#fdca26"
            ],
            [
             1,
             "#f0f921"
            ]
           ]
          },
          "colorway": [
           "#636efa",
           "#EF553B",
           "#00cc96",
           "#ab63fa",
           "#FFA15A",
           "#19d3f3",
           "#FF6692",
           "#B6E880",
           "#FF97FF",
           "#FECB52"
          ],
          "font": {
           "color": "#2a3f5f"
          },
          "geo": {
           "bgcolor": "white",
           "lakecolor": "white",
           "landcolor": "#E5ECF6",
           "showlakes": true,
           "showland": true,
           "subunitcolor": "white"
          },
          "hoverlabel": {
           "align": "left"
          },
          "hovermode": "closest",
          "mapbox": {
           "style": "light"
          },
          "paper_bgcolor": "white",
          "plot_bgcolor": "#E5ECF6",
          "polar": {
           "angularaxis": {
            "gridcolor": "white",
            "linecolor": "white",
            "ticks": ""
           },
           "bgcolor": "#E5ECF6",
           "radialaxis": {
            "gridcolor": "white",
            "linecolor": "white",
            "ticks": ""
           }
          },
          "scene": {
           "xaxis": {
            "backgroundcolor": "#E5ECF6",
            "gridcolor": "white",
            "gridwidth": 2,
            "linecolor": "white",
            "showbackground": true,
            "ticks": "",
            "zerolinecolor": "white"
           },
           "yaxis": {
            "backgroundcolor": "#E5ECF6",
            "gridcolor": "white",
            "gridwidth": 2,
            "linecolor": "white",
            "showbackground": true,
            "ticks": "",
            "zerolinecolor": "white"
           },
           "zaxis": {
            "backgroundcolor": "#E5ECF6",
            "gridcolor": "white",
            "gridwidth": 2,
            "linecolor": "white",
            "showbackground": true,
            "ticks": "",
            "zerolinecolor": "white"
           }
          },
          "shapedefaults": {
           "line": {
            "color": "#2a3f5f"
           }
          },
          "ternary": {
           "aaxis": {
            "gridcolor": "white",
            "linecolor": "white",
            "ticks": ""
           },
           "baxis": {
            "gridcolor": "white",
            "linecolor": "white",
            "ticks": ""
           },
           "bgcolor": "#E5ECF6",
           "caxis": {
            "gridcolor": "white",
            "linecolor": "white",
            "ticks": ""
           }
          },
          "title": {
           "x": 0.05
          },
          "xaxis": {
           "automargin": true,
           "gridcolor": "white",
           "linecolor": "white",
           "ticks": "",
           "title": {
            "standoff": 15
           },
           "zerolinecolor": "white",
           "zerolinewidth": 2
          },
          "yaxis": {
           "automargin": true,
           "gridcolor": "white",
           "linecolor": "white",
           "ticks": "",
           "title": {
            "standoff": 15
           },
           "zerolinecolor": "white",
           "zerolinewidth": 2
          }
         }
        },
        "title": {
         "text": "The contribution of countries to our revenue"
        },
        "width": 760
       }
      },
      "text/html": [
       "<div>                            <div id=\"e7765d71-38cf-4bb6-9786-020c000490de\" class=\"plotly-graph-div\" style=\"height:550px; width:760px;\"></div>            <script type=\"text/javascript\">                require([\"plotly\"], function(Plotly) {                    window.PLOTLYENV=window.PLOTLYENV || {};                                    if (document.getElementById(\"e7765d71-38cf-4bb6-9786-020c000490de\")) {                    Plotly.newPlot(                        \"e7765d71-38cf-4bb6-9786-020c000490de\",                        [{\"coloraxis\":\"coloraxis\",\"customdata\":[[83.72286922434463],[2.7553957754364955],[2.4742107650347114],[2.1586539052885323],[1.2095152288124893],[0.6327705014197946],[0.587785246285529],[0.4567885931502348],[0.39324387659326204],[0.36584288564895023],[0.33356690646868264],[0.3075409491665963],[0.2438811382687937],[0.2266464814551754],[0.21017845496188187],[0.1938556824054737],[0.14972077264676056],[0.11308384893389647],[0.105583977913294],[0.09013960359200479],[0.08132723573864499],[0.052785058902406284],[0.04778965404396391],[0.030221578460716377],[0.02862056960980966],[0.021092645729640758],[0.018781888443617074],[0.0184179774353287],[0.01268033604748889],[0.008361969768147319],[0.0016179736236879845]],\"hovertemplate\":\"<b>%{hovertext}</b><br><br>Lat=%{lat}<br>Long=%{lon}<br>% of total rev=%{customdata[0]}<extra></extra>\",\"hovertext\":[\"United Kingdom\",\"Netherlands\",\"Germany\",\"France\",\"Australia\",\"Switzerland\",\"Spain\",\"Belgium\",\"Norway\",\"Sweden\",\"Portugal\",\"Japan\",\"Finland\",\"Channel Islands\",\"Denmark\",\"Italy\",\"Cyprus\",\"Austria\",\"Singapore\",\"Israel\",\"Poland\",\"Greece\",\"Iceland\",\"Malta\",\"Canada\",\"United Arab Emirates\",\"Lebanon\",\"Lithuania\",\"Brazil\",\"Bahrain\",\"Saudi Arabia\"],\"lat\":[55.3781,52.1326,51.165691,46.2276,-35.4735,46.8182,40.463667,50.8333,60.472,60.128161,39.3999,36.204824,61.92411,49.3723,61.8926,41.87194,35.1264,47.5162,1.2833,31.046051,51.9194,39.0742,64.9631,35.9375,51.2538,23.424076,33.8547,55.1694,-14.235,26.0275,23.885942],\"lon\":[-3.436,5.2913,10.451526,2.2137,149.0124,8.2275,-3.74922,4.469936,8.4689,18.643501,-8.2245,138.252924,25.748151,-2.3644,-6.9118,12.56738,33.4299,14.5501,103.8333,34.851612,19.1451,21.8243,-19.0208,14.3754,-85.3232,53.847818,35.8623,23.8813,-51.9253,50.55,45.079162],\"name\":\"\",\"radius\":[18.0,5.42784182401454,5.384181051646263,5.335183218500961,5.1878064872863945,5.098252921748475,5.091267873073442,5.070927474965542,5.061060621107164,5.056805954663262,5.051794328410713,5.047753169190279,5.0378684441523225,5.035192346920434,5.032635287584124,5.030100782433987,5.023247770441221,5.0175590020953695,5.016394465760541,5.013996353177482,5.012628019971094,5.0081961568217706,5.007420499420616,5.004692630862143,5.004444035523084,5.003275143303445,5.002916342356982,5.002859836372995,5.001968928802185,5.001298398012311,5.000251229530268],\"subplot\":\"mapbox\",\"type\":\"densitymapbox\"}],                        {\"template\":{\"data\":{\"histogram2dcontour\":[{\"type\":\"histogram2dcontour\",\"colorbar\":{\"outlinewidth\":0,\"ticks\":\"\"},\"colorscale\":[[0.0,\"#0d0887\"],[0.1111111111111111,\"#46039f\"],[0.2222222222222222,\"#7201a8\"],[0.3333333333333333,\"#9c179e\"],[0.4444444444444444,\"#bd3786\"],[0.5555555555555556,\"#d8576b\"],[0.6666666666666666,\"#ed7953\"],[0.7777777777777778,\"#fb9f3a\"],[0.8888888888888888,\"#fdca26\"],[1.0,\"#f0f921\"]]}],\"choropleth\":[{\"type\":\"choropleth\",\"colorbar\":{\"outlinewidth\":0,\"ticks\":\"\"}}],\"histogram2d\":[{\"type\":\"histogram2d\",\"colorbar\":{\"outlinewidth\":0,\"ticks\":\"\"},\"colorscale\":[[0.0,\"#0d0887\"],[0.1111111111111111,\"#46039f\"],[0.2222222222222222,\"#7201a8\"],[0.3333333333333333,\"#9c179e\"],[0.4444444444444444,\"#bd3786\"],[0.5555555555555556,\"#d8576b\"],[0.6666666666666666,\"#ed7953\"],[0.7777777777777778,\"#fb9f3a\"],[0.8888888888888888,\"#fdca26\"],[1.0,\"#f0f921\"]]}],\"heatmap\":[{\"type\":\"heatmap\",\"colorbar\":{\"outlinewidth\":0,\"ticks\":\"\"},\"colorscale\":[[0.0,\"#0d0887\"],[0.1111111111111111,\"#46039f\"],[0.2222222222222222,\"#7201a8\"],[0.3333333333333333,\"#9c179e\"],[0.4444444444444444,\"#bd3786\"],[0.5555555555555556,\"#d8576b\"],[0.6666666666666666,\"#ed7953\"],[0.7777777777777778,\"#fb9f3a\"],[0.8888888888888888,\"#fdca26\"],[1.0,\"#f0f921\"]]}],\"heatmapgl\":[{\"type\":\"heatmapgl\",\"colorbar\":{\"outlinewidth\":0,\"ticks\":\"\"},\"colorscale\":[[0.0,\"#0d0887\"],[0.1111111111111111,\"#46039f\"],[0.2222222222222222,\"#7201a8\"],[0.3333333333333333,\"#9c179e\"],[0.4444444444444444,\"#bd3786\"],[0.5555555555555556,\"#d8576b\"],[0.6666666666666666,\"#ed7953\"],[0.7777777777777778,\"#fb9f3a\"],[0.8888888888888888,\"#fdca26\"],[1.0,\"#f0f921\"]]}],\"contourcarpet\":[{\"type\":\"contourcarpet\",\"colorbar\":{\"outlinewidth\":0,\"ticks\":\"\"}}],\"contour\":[{\"type\":\"contour\",\"colorbar\":{\"outlinewidth\":0,\"ticks\":\"\"},\"colorscale\":[[0.0,\"#0d0887\"],[0.1111111111111111,\"#46039f\"],[0.2222222222222222,\"#7201a8\"],[0.3333333333333333,\"#9c179e\"],[0.4444444444444444,\"#bd3786\"],[0.5555555555555556,\"#d8576b\"],[0.6666666666666666,\"#ed7953\"],[0.7777777777777778,\"#fb9f3a\"],[0.8888888888888888,\"#fdca26\"],[1.0,\"#f0f921\"]]}],\"surface\":[{\"type\":\"surface\",\"colorbar\":{\"outlinewidth\":0,\"ticks\":\"\"},\"colorscale\":[[0.0,\"#0d0887\"],[0.1111111111111111,\"#46039f\"],[0.2222222222222222,\"#7201a8\"],[0.3333333333333333,\"#9c179e\"],[0.4444444444444444,\"#bd3786\"],[0.5555555555555556,\"#d8576b\"],[0.6666666666666666,\"#ed7953\"],[0.7777777777777778,\"#fb9f3a\"],[0.8888888888888888,\"#fdca26\"],[1.0,\"#f0f921\"]]}],\"mesh3d\":[{\"type\":\"mesh3d\",\"colorbar\":{\"outlinewidth\":0,\"ticks\":\"\"}}],\"scatter\":[{\"fillpattern\":{\"fillmode\":\"overlay\",\"size\":10,\"solidity\":0.2},\"type\":\"scatter\"}],\"parcoords\":[{\"type\":\"parcoords\",\"line\":{\"colorbar\":{\"outlinewidth\":0,\"ticks\":\"\"}}}],\"scatterpolargl\":[{\"type\":\"scatterpolargl\",\"marker\":{\"colorbar\":{\"outlinewidth\":0,\"ticks\":\"\"}}}],\"bar\":[{\"error_x\":{\"color\":\"#2a3f5f\"},\"error_y\":{\"color\":\"#2a3f5f\"},\"marker\":{\"line\":{\"color\":\"#E5ECF6\",\"width\":0.5},\"pattern\":{\"fillmode\":\"overlay\",\"size\":10,\"solidity\":0.2}},\"type\":\"bar\"}],\"scattergeo\":[{\"type\":\"scattergeo\",\"marker\":{\"colorbar\":{\"outlinewidth\":0,\"ticks\":\"\"}}}],\"scatterpolar\":[{\"type\":\"scatterpolar\",\"marker\":{\"colorbar\":{\"outlinewidth\":0,\"ticks\":\"\"}}}],\"histogram\":[{\"marker\":{\"pattern\":{\"fillmode\":\"overlay\",\"size\":10,\"solidity\":0.2}},\"type\":\"histogram\"}],\"scattergl\":[{\"type\":\"scattergl\",\"marker\":{\"colorbar\":{\"outlinewidth\":0,\"ticks\":\"\"}}}],\"scatter3d\":[{\"type\":\"scatter3d\",\"line\":{\"colorbar\":{\"outlinewidth\":0,\"ticks\":\"\"}},\"marker\":{\"colorbar\":{\"outlinewidth\":0,\"ticks\":\"\"}}}],\"scattermapbox\":[{\"type\":\"scattermapbox\",\"marker\":{\"colorbar\":{\"outlinewidth\":0,\"ticks\":\"\"}}}],\"scatterternary\":[{\"type\":\"scatterternary\",\"marker\":{\"colorbar\":{\"outlinewidth\":0,\"ticks\":\"\"}}}],\"scattercarpet\":[{\"type\":\"scattercarpet\",\"marker\":{\"colorbar\":{\"outlinewidth\":0,\"ticks\":\"\"}}}],\"carpet\":[{\"aaxis\":{\"endlinecolor\":\"#2a3f5f\",\"gridcolor\":\"white\",\"linecolor\":\"white\",\"minorgridcolor\":\"white\",\"startlinecolor\":\"#2a3f5f\"},\"baxis\":{\"endlinecolor\":\"#2a3f5f\",\"gridcolor\":\"white\",\"linecolor\":\"white\",\"minorgridcolor\":\"white\",\"startlinecolor\":\"#2a3f5f\"},\"type\":\"carpet\"}],\"table\":[{\"cells\":{\"fill\":{\"color\":\"#EBF0F8\"},\"line\":{\"color\":\"white\"}},\"header\":{\"fill\":{\"color\":\"#C8D4E3\"},\"line\":{\"color\":\"white\"}},\"type\":\"table\"}],\"barpolar\":[{\"marker\":{\"line\":{\"color\":\"#E5ECF6\",\"width\":0.5},\"pattern\":{\"fillmode\":\"overlay\",\"size\":10,\"solidity\":0.2}},\"type\":\"barpolar\"}],\"pie\":[{\"automargin\":true,\"type\":\"pie\"}]},\"layout\":{\"autotypenumbers\":\"strict\",\"colorway\":[\"#636efa\",\"#EF553B\",\"#00cc96\",\"#ab63fa\",\"#FFA15A\",\"#19d3f3\",\"#FF6692\",\"#B6E880\",\"#FF97FF\",\"#FECB52\"],\"font\":{\"color\":\"#2a3f5f\"},\"hovermode\":\"closest\",\"hoverlabel\":{\"align\":\"left\"},\"paper_bgcolor\":\"white\",\"plot_bgcolor\":\"#E5ECF6\",\"polar\":{\"bgcolor\":\"#E5ECF6\",\"angularaxis\":{\"gridcolor\":\"white\",\"linecolor\":\"white\",\"ticks\":\"\"},\"radialaxis\":{\"gridcolor\":\"white\",\"linecolor\":\"white\",\"ticks\":\"\"}},\"ternary\":{\"bgcolor\":\"#E5ECF6\",\"aaxis\":{\"gridcolor\":\"white\",\"linecolor\":\"white\",\"ticks\":\"\"},\"baxis\":{\"gridcolor\":\"white\",\"linecolor\":\"white\",\"ticks\":\"\"},\"caxis\":{\"gridcolor\":\"white\",\"linecolor\":\"white\",\"ticks\":\"\"}},\"coloraxis\":{\"colorbar\":{\"outlinewidth\":0,\"ticks\":\"\"}},\"colorscale\":{\"sequential\":[[0.0,\"#0d0887\"],[0.1111111111111111,\"#46039f\"],[0.2222222222222222,\"#7201a8\"],[0.3333333333333333,\"#9c179e\"],[0.4444444444444444,\"#bd3786\"],[0.5555555555555556,\"#d8576b\"],[0.6666666666666666,\"#ed7953\"],[0.7777777777777778,\"#fb9f3a\"],[0.8888888888888888,\"#fdca26\"],[1.0,\"#f0f921\"]],\"sequentialminus\":[[0.0,\"#0d0887\"],[0.1111111111111111,\"#46039f\"],[0.2222222222222222,\"#7201a8\"],[0.3333333333333333,\"#9c179e\"],[0.4444444444444444,\"#bd3786\"],[0.5555555555555556,\"#d8576b\"],[0.6666666666666666,\"#ed7953\"],[0.7777777777777778,\"#fb9f3a\"],[0.8888888888888888,\"#fdca26\"],[1.0,\"#f0f921\"]],\"diverging\":[[0,\"#8e0152\"],[0.1,\"#c51b7d\"],[0.2,\"#de77ae\"],[0.3,\"#f1b6da\"],[0.4,\"#fde0ef\"],[0.5,\"#f7f7f7\"],[0.6,\"#e6f5d0\"],[0.7,\"#b8e186\"],[0.8,\"#7fbc41\"],[0.9,\"#4d9221\"],[1,\"#276419\"]]},\"xaxis\":{\"gridcolor\":\"white\",\"linecolor\":\"white\",\"ticks\":\"\",\"title\":{\"standoff\":15},\"zerolinecolor\":\"white\",\"automargin\":true,\"zerolinewidth\":2},\"yaxis\":{\"gridcolor\":\"white\",\"linecolor\":\"white\",\"ticks\":\"\",\"title\":{\"standoff\":15},\"zerolinecolor\":\"white\",\"automargin\":true,\"zerolinewidth\":2},\"scene\":{\"xaxis\":{\"backgroundcolor\":\"#E5ECF6\",\"gridcolor\":\"white\",\"linecolor\":\"white\",\"showbackground\":true,\"ticks\":\"\",\"zerolinecolor\":\"white\",\"gridwidth\":2},\"yaxis\":{\"backgroundcolor\":\"#E5ECF6\",\"gridcolor\":\"white\",\"linecolor\":\"white\",\"showbackground\":true,\"ticks\":\"\",\"zerolinecolor\":\"white\",\"gridwidth\":2},\"zaxis\":{\"backgroundcolor\":\"#E5ECF6\",\"gridcolor\":\"white\",\"linecolor\":\"white\",\"showbackground\":true,\"ticks\":\"\",\"zerolinecolor\":\"white\",\"gridwidth\":2}},\"shapedefaults\":{\"line\":{\"color\":\"#2a3f5f\"}},\"annotationdefaults\":{\"arrowcolor\":\"#2a3f5f\",\"arrowhead\":0,\"arrowwidth\":1},\"geo\":{\"bgcolor\":\"white\",\"landcolor\":\"#E5ECF6\",\"subunitcolor\":\"white\",\"showland\":true,\"showlakes\":true,\"lakecolor\":\"white\"},\"title\":{\"x\":0.05},\"mapbox\":{\"style\":\"light\"}}},\"mapbox\":{\"domain\":{\"x\":[0.0,1.0],\"y\":[0.0,1.0]},\"center\":{\"lat\":39.518002,\"lon\":21.08459},\"zoom\":0,\"style\":\"open-street-map\"},\"coloraxis\":{\"colorscale\":[[0.0,\"#0d0887\"],[0.1111111111111111,\"#46039f\"],[0.2222222222222222,\"#7201a8\"],[0.3333333333333333,\"#9c179e\"],[0.4444444444444444,\"#bd3786\"],[0.5555555555555556,\"#d8576b\"],[0.6666666666666666,\"#ed7953\"],[0.7777777777777778,\"#fb9f3a\"],[0.8888888888888888,\"#fdca26\"],[1.0,\"#f0f921\"]]},\"legend\":{\"tracegroupgap\":0},\"title\":{\"text\":\"The contribution of countries to our revenue\"},\"height\":550,\"width\":760},                        {\"responsive\": true}                    ).then(function(){\n",
       "                            \n",
       "var gd = document.getElementById('e7765d71-38cf-4bb6-9786-020c000490de');\n",
       "var x = new MutationObserver(function (mutations, observer) {{\n",
       "        var display = window.getComputedStyle(gd).display;\n",
       "        if (!display || display === 'none') {{\n",
       "            console.log([gd, 'removed!']);\n",
       "            Plotly.purge(gd);\n",
       "            observer.disconnect();\n",
       "        }}\n",
       "}});\n",
       "\n",
       "// Listen for the removal of the full notebook cells\n",
       "var notebookContainer = gd.closest('#notebook-container');\n",
       "if (notebookContainer) {{\n",
       "    x.observe(notebookContainer, {childList: true});\n",
       "}}\n",
       "\n",
       "// Listen for the clearing of the current output cell\n",
       "var outputEl = gd.closest('.output');\n",
       "if (outputEl) {{\n",
       "    x.observe(outputEl, {childList: true});\n",
       "}}\n",
       "\n",
       "                        })                };                });            </script>        </div>"
      ]
     },
     "metadata": {},
     "output_type": "display_data"
    }
   ],
   "source": [
    "rev_list = list(rev_per_country['% of total rev'])\n",
    "circle_radius = interp1d([0, max(rev_list)], [5, 18])(rev_list)\n",
    "fig = px.density_mapbox(rev_per_country, lat='Lat', lon='Long', radius=circle_radius, zoom=0,\n",
    "                        mapbox_style='open-street-map',\n",
    "                        hover_name='Country', hover_data=['% of total rev'],\n",
    "                        title='The contribution of countries to our revenue', width=760, height=550)\n",
    "fig"
   ]
  },
  {
   "cell_type": "markdown",
   "id": "0b5a6a3d",
   "metadata": {},
   "source": [
    "## The most active buyers "
   ]
  },
  {
   "cell_type": "code",
   "execution_count": 136,
   "id": "6f43c8be",
   "metadata": {},
   "outputs": [
    {
     "data": {
      "text/html": [
       "<div>\n",
       "<style scoped>\n",
       "    .dataframe tbody tr th:only-of-type {\n",
       "        vertical-align: middle;\n",
       "    }\n",
       "\n",
       "    .dataframe tbody tr th {\n",
       "        vertical-align: top;\n",
       "    }\n",
       "\n",
       "    .dataframe thead th {\n",
       "        text-align: right;\n",
       "    }\n",
       "</style>\n",
       "<table border=\"1\" class=\"dataframe\">\n",
       "  <thead>\n",
       "    <tr style=\"text-align: right;\">\n",
       "      <th></th>\n",
       "      <th>CustomerID</th>\n",
       "      <th>Quantity</th>\n",
       "      <th>% of total quantity</th>\n",
       "    </tr>\n",
       "  </thead>\n",
       "  <tbody>\n",
       "    <tr>\n",
       "      <th>0</th>\n",
       "      <td>14646.0</td>\n",
       "      <td>176085</td>\n",
       "      <td>3.532390</td>\n",
       "    </tr>\n",
       "    <tr>\n",
       "      <th>1</th>\n",
       "      <td>14911.0</td>\n",
       "      <td>79262</td>\n",
       "      <td>1.590052</td>\n",
       "    </tr>\n",
       "    <tr>\n",
       "      <th>2</th>\n",
       "      <td>12415.0</td>\n",
       "      <td>67458</td>\n",
       "      <td>1.353255</td>\n",
       "    </tr>\n",
       "    <tr>\n",
       "      <th>3</th>\n",
       "      <td>17511.0</td>\n",
       "      <td>63699</td>\n",
       "      <td>1.277847</td>\n",
       "    </tr>\n",
       "    <tr>\n",
       "      <th>4</th>\n",
       "      <td>13694.0</td>\n",
       "      <td>62282</td>\n",
       "      <td>1.249421</td>\n",
       "    </tr>\n",
       "    <tr>\n",
       "      <th>5</th>\n",
       "      <td>14298.0</td>\n",
       "      <td>58087</td>\n",
       "      <td>1.165266</td>\n",
       "    </tr>\n",
       "    <tr>\n",
       "      <th>6</th>\n",
       "      <td>14156.0</td>\n",
       "      <td>51616</td>\n",
       "      <td>1.035453</td>\n",
       "    </tr>\n",
       "    <tr>\n",
       "      <th>7</th>\n",
       "      <td>16684.0</td>\n",
       "      <td>42757</td>\n",
       "      <td>0.857736</td>\n",
       "    </tr>\n",
       "    <tr>\n",
       "      <th>8</th>\n",
       "      <td>15311.0</td>\n",
       "      <td>38137</td>\n",
       "      <td>0.765055</td>\n",
       "    </tr>\n",
       "    <tr>\n",
       "      <th>9</th>\n",
       "      <td>16422.0</td>\n",
       "      <td>33704</td>\n",
       "      <td>0.676126</td>\n",
       "    </tr>\n",
       "  </tbody>\n",
       "</table>\n",
       "</div>"
      ],
      "text/plain": [
       "   CustomerID  Quantity  % of total quantity\n",
       "0     14646.0    176085             3.532390\n",
       "1     14911.0     79262             1.590052\n",
       "2     12415.0     67458             1.353255\n",
       "3     17511.0     63699             1.277847\n",
       "4     13694.0     62282             1.249421\n",
       "5     14298.0     58087             1.165266\n",
       "6     14156.0     51616             1.035453\n",
       "7     16684.0     42757             0.857736\n",
       "8     15311.0     38137             0.765055\n",
       "9     16422.0     33704             0.676126"
      ]
     },
     "execution_count": 136,
     "metadata": {},
     "output_type": "execute_result"
    }
   ],
   "source": [
    "most_loyal_buyers = df.groupby(by = 'CustomerID', as_index=False).agg({\"Quantity\":\"sum\"})\n",
    "most_loyal_buyers = most_loyal_buyers.sort_values(by = \"Quantity\", ascending=False).head(10).reset_index(drop=True)\n",
    "most_loyal_buyers[\"% of total quantity\"] = 100*most_loyal_buyers['Quantity']/df[\"Quantity\"].sum()\n",
    "most_loyal_buyers"
   ]
  },
  {
   "cell_type": "markdown",
   "id": "87ad82a9",
   "metadata": {},
   "source": [
    "## The most lucrative buyers"
   ]
  },
  {
   "cell_type": "code",
   "execution_count": 137,
   "id": "1828ca15",
   "metadata": {},
   "outputs": [
    {
     "data": {
      "text/html": [
       "<div>\n",
       "<style scoped>\n",
       "    .dataframe tbody tr th:only-of-type {\n",
       "        vertical-align: middle;\n",
       "    }\n",
       "\n",
       "    .dataframe tbody tr th {\n",
       "        vertical-align: top;\n",
       "    }\n",
       "\n",
       "    .dataframe thead th {\n",
       "        text-align: right;\n",
       "    }\n",
       "</style>\n",
       "<table border=\"1\" class=\"dataframe\">\n",
       "  <thead>\n",
       "    <tr style=\"text-align: right;\">\n",
       "      <th></th>\n",
       "      <th>CustomerID</th>\n",
       "      <th>Quantity</th>\n",
       "      <th>Rev</th>\n",
       "      <th>AOV</th>\n",
       "    </tr>\n",
       "  </thead>\n",
       "  <tbody>\n",
       "    <tr>\n",
       "      <th>0</th>\n",
       "      <td>15802.0</td>\n",
       "      <td>1</td>\n",
       "      <td>451.42</td>\n",
       "      <td>451.420000</td>\n",
       "    </tr>\n",
       "    <tr>\n",
       "      <th>1</th>\n",
       "      <td>13452.0</td>\n",
       "      <td>2</td>\n",
       "      <td>590.00</td>\n",
       "      <td>295.000000</td>\n",
       "    </tr>\n",
       "    <tr>\n",
       "      <th>2</th>\n",
       "      <td>15510.0</td>\n",
       "      <td>2</td>\n",
       "      <td>250.00</td>\n",
       "      <td>125.000000</td>\n",
       "    </tr>\n",
       "    <tr>\n",
       "      <th>3</th>\n",
       "      <td>18233.0</td>\n",
       "      <td>4</td>\n",
       "      <td>440.00</td>\n",
       "      <td>110.000000</td>\n",
       "    </tr>\n",
       "    <tr>\n",
       "      <th>4</th>\n",
       "      <td>15524.0</td>\n",
       "      <td>4</td>\n",
       "      <td>440.00</td>\n",
       "      <td>110.000000</td>\n",
       "    </tr>\n",
       "    <tr>\n",
       "      <th>5</th>\n",
       "      <td>16692.0</td>\n",
       "      <td>2</td>\n",
       "      <td>158.50</td>\n",
       "      <td>79.250000</td>\n",
       "    </tr>\n",
       "    <tr>\n",
       "      <th>6</th>\n",
       "      <td>17500.0</td>\n",
       "      <td>11</td>\n",
       "      <td>628.00</td>\n",
       "      <td>57.090909</td>\n",
       "    </tr>\n",
       "    <tr>\n",
       "      <th>7</th>\n",
       "      <td>14816.0</td>\n",
       "      <td>5</td>\n",
       "      <td>271.85</td>\n",
       "      <td>54.370000</td>\n",
       "    </tr>\n",
       "    <tr>\n",
       "      <th>8</th>\n",
       "      <td>14185.0</td>\n",
       "      <td>6</td>\n",
       "      <td>197.65</td>\n",
       "      <td>32.941667</td>\n",
       "    </tr>\n",
       "    <tr>\n",
       "      <th>9</th>\n",
       "      <td>16429.0</td>\n",
       "      <td>9</td>\n",
       "      <td>284.55</td>\n",
       "      <td>31.616667</td>\n",
       "    </tr>\n",
       "  </tbody>\n",
       "</table>\n",
       "</div>"
      ],
      "text/plain": [
       "   CustomerID  Quantity     Rev         AOV\n",
       "0     15802.0         1  451.42  451.420000\n",
       "1     13452.0         2  590.00  295.000000\n",
       "2     15510.0         2  250.00  125.000000\n",
       "3     18233.0         4  440.00  110.000000\n",
       "4     15524.0         4  440.00  110.000000\n",
       "5     16692.0         2  158.50   79.250000\n",
       "6     17500.0        11  628.00   57.090909\n",
       "7     14816.0         5  271.85   54.370000\n",
       "8     14185.0         6  197.65   32.941667\n",
       "9     16429.0         9  284.55   31.616667"
      ]
     },
     "execution_count": 137,
     "metadata": {},
     "output_type": "execute_result"
    }
   ],
   "source": [
    "buyers_stats = df.groupby(by = 'CustomerID', as_index=False).agg({\"Quantity\":\"sum\", \"Rev\": \"sum\"})\n",
    "buyers_stats[\"AOV\"] = buyers_stats['Rev']/buyers_stats['Quantity']\n",
    "buyers_stats = buyers_stats.sort_values(by = \"AOV\", ascending=False).head(10).reset_index(drop=True)\n",
    "buyers_stats"
   ]
  },
  {
   "cell_type": "markdown",
   "id": "eea29ece",
   "metadata": {},
   "source": [
    "## Computing business and product metrics"
   ]
  },
  {
   "cell_type": "code",
   "execution_count": 162,
   "id": "f4cbb3e8",
   "metadata": {},
   "outputs": [
    {
     "data": {
      "text/html": [
       "<div>\n",
       "<style scoped>\n",
       "    .dataframe tbody tr th:only-of-type {\n",
       "        vertical-align: middle;\n",
       "    }\n",
       "\n",
       "    .dataframe tbody tr th {\n",
       "        vertical-align: top;\n",
       "    }\n",
       "\n",
       "    .dataframe thead th {\n",
       "        text-align: right;\n",
       "    }\n",
       "</style>\n",
       "<table border=\"1\" class=\"dataframe\">\n",
       "  <thead>\n",
       "    <tr style=\"text-align: right;\">\n",
       "      <th></th>\n",
       "      <th>InvoiceDateMonth</th>\n",
       "      <th>Rev</th>\n",
       "      <th>Number of invoices</th>\n",
       "      <th>MAU</th>\n",
       "      <th>AOV per month</th>\n",
       "    </tr>\n",
       "  </thead>\n",
       "  <tbody>\n",
       "    <tr>\n",
       "      <th>0</th>\n",
       "      <td>2010-12-01</td>\n",
       "      <td>682260.75</td>\n",
       "      <td>40816</td>\n",
       "      <td>25564</td>\n",
       "      <td>16.715522</td>\n",
       "    </tr>\n",
       "    <tr>\n",
       "      <th>1</th>\n",
       "      <td>2011-01-01</td>\n",
       "      <td>539788.94</td>\n",
       "      <td>33992</td>\n",
       "      <td>20925</td>\n",
       "      <td>15.879882</td>\n",
       "    </tr>\n",
       "    <tr>\n",
       "      <th>2</th>\n",
       "      <td>2011-02-01</td>\n",
       "      <td>484545.40</td>\n",
       "      <td>26824</td>\n",
       "      <td>19649</td>\n",
       "      <td>18.063876</td>\n",
       "    </tr>\n",
       "    <tr>\n",
       "      <th>3</th>\n",
       "      <td>2011-03-01</td>\n",
       "      <td>644573.45</td>\n",
       "      <td>35392</td>\n",
       "      <td>26780</td>\n",
       "      <td>18.212405</td>\n",
       "    </tr>\n",
       "    <tr>\n",
       "      <th>4</th>\n",
       "      <td>2011-04-01</td>\n",
       "      <td>484411.11</td>\n",
       "      <td>28817</td>\n",
       "      <td>22373</td>\n",
       "      <td>16.809908</td>\n",
       "    </tr>\n",
       "    <tr>\n",
       "      <th>5</th>\n",
       "      <td>2011-05-01</td>\n",
       "      <td>696309.30</td>\n",
       "      <td>35831</td>\n",
       "      <td>27994</td>\n",
       "      <td>19.433153</td>\n",
       "    </tr>\n",
       "    <tr>\n",
       "      <th>6</th>\n",
       "      <td>2011-06-01</td>\n",
       "      <td>625718.04</td>\n",
       "      <td>35589</td>\n",
       "      <td>26807</td>\n",
       "      <td>17.581782</td>\n",
       "    </tr>\n",
       "    <tr>\n",
       "      <th>7</th>\n",
       "      <td>2011-07-01</td>\n",
       "      <td>626438.58</td>\n",
       "      <td>38216</td>\n",
       "      <td>26416</td>\n",
       "      <td>16.392050</td>\n",
       "    </tr>\n",
       "    <tr>\n",
       "      <th>8</th>\n",
       "      <td>2011-08-01</td>\n",
       "      <td>653728.83</td>\n",
       "      <td>34120</td>\n",
       "      <td>26654</td>\n",
       "      <td>19.159696</td>\n",
       "    </tr>\n",
       "    <tr>\n",
       "      <th>9</th>\n",
       "      <td>2011-09-01</td>\n",
       "      <td>910373.83</td>\n",
       "      <td>48751</td>\n",
       "      <td>39529</td>\n",
       "      <td>18.673952</td>\n",
       "    </tr>\n",
       "    <tr>\n",
       "      <th>10</th>\n",
       "      <td>2011-10-01</td>\n",
       "      <td>982203.22</td>\n",
       "      <td>58287</td>\n",
       "      <td>48554</td>\n",
       "      <td>16.851154</td>\n",
       "    </tr>\n",
       "    <tr>\n",
       "      <th>11</th>\n",
       "      <td>2011-11-01</td>\n",
       "      <td>1293828.81</td>\n",
       "      <td>81624</td>\n",
       "      <td>62904</td>\n",
       "      <td>15.851083</td>\n",
       "    </tr>\n",
       "    <tr>\n",
       "      <th>12</th>\n",
       "      <td>2011-12-01</td>\n",
       "      <td>394508.17</td>\n",
       "      <td>24683</td>\n",
       "      <td>16891</td>\n",
       "      <td>15.982991</td>\n",
       "    </tr>\n",
       "  </tbody>\n",
       "</table>\n",
       "</div>"
      ],
      "text/plain": [
       "   InvoiceDateMonth         Rev  Number of invoices    MAU  AOV per month\n",
       "0        2010-12-01   682260.75               40816  25564      16.715522\n",
       "1        2011-01-01   539788.94               33992  20925      15.879882\n",
       "2        2011-02-01   484545.40               26824  19649      18.063876\n",
       "3        2011-03-01   644573.45               35392  26780      18.212405\n",
       "4        2011-04-01   484411.11               28817  22373      16.809908\n",
       "5        2011-05-01   696309.30               35831  27994      19.433153\n",
       "6        2011-06-01   625718.04               35589  26807      17.581782\n",
       "7        2011-07-01   626438.58               38216  26416      16.392050\n",
       "8        2011-08-01   653728.83               34120  26654      19.159696\n",
       "9        2011-09-01   910373.83               48751  39529      18.673952\n",
       "10       2011-10-01   982203.22               58287  48554      16.851154\n",
       "11       2011-11-01  1293828.81               81624  62904      15.851083\n",
       "12       2011-12-01   394508.17               24683  16891      15.982991"
      ]
     },
     "execution_count": 162,
     "metadata": {},
     "output_type": "execute_result"
    }
   ],
   "source": [
    "rev_per_month['AOV per month'] = rev_per_month['Rev']/rev_per_month['Number of invoices']\n",
    "rev_per_month"
   ]
  },
  {
   "cell_type": "code",
   "execution_count": 156,
   "id": "17615e2e",
   "metadata": {},
   "outputs": [
    {
     "data": {
      "image/png": "[encoded data removed]",
      "text/plain": [
       "<Figure size 640x480 with 1 Axes>"
      ]
     },
     "metadata": {},
     "output_type": "display_data"
    }
   ],
   "source": [
    "ax = sns.lineplot(data = rev_per_month, x = 'InvoiceDateMonth', y = 'AOV per month')\n",
    "ax.set_title(\"Average Order Value per month\");"
   ]
  },
  {
   "cell_type": "code",
   "execution_count": 163,
   "id": "c15b8ed4",
   "metadata": {},
   "outputs": [
    {
     "data": {
      "image/png": "[encoded data removed]",
      "text/plain": [
       "<Figure size 640x480 with 1 Axes>"
      ]
     },
     "metadata": {},
     "output_type": "display_data"
    }
   ],
   "source": [
    "ax = sns.lineplot(data = rev_per_month, x = 'InvoiceDateMonth', y = 'MAU')\n",
    "ax.set_title(\"Monthly Active Customers\");"
   ]
  },
  {
   "cell_type": "code",
   "execution_count": 191,
   "id": "a78ee2c3",
   "metadata": {},
   "outputs": [
    {
     "data": {
      "image/png": "[encoded data removed]",
      "text/plain": [
       "<Figure size 640x480 with 1 Axes>"
      ]
     },
     "metadata": {},
     "output_type": "display_data"
    }
   ],
   "source": [
    "customers = df.groupby(by='CustomerID', as_index=False).agg({'InvoiceNo':'count'})\n",
    "ax = sns.histplot(data=customers, x='InvoiceNo', log_scale=10)\n",
    "ax.set_title(\"Log_{10}(number of orders per consumer)\");"
   ]
  },
  {
   "cell_type": "markdown",
   "id": "6bb661d6",
   "metadata": {},
   "source": [
    "# THE END"
   ]
  }
 ],
 "metadata": {
  "kernelspec": {
   "display_name": "Python 3 (ipykernel)",
   "language": "python",
   "name": "python3"
  },
  "language_info": {
   "codemirror_mode": {
    "name": "ipython",
    "version": 3
   },
   "file_extension": ".py",
   "mimetype": "text/x-python",
   "name": "python",
   "nbconvert_exporter": "python",
   "pygments_lexer": "ipython3",
   "version": "3.9.13"
  }
 },
 "nbformat": 4,
 "nbformat_minor": 5
}
